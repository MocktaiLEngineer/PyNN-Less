{
  "nbformat": 4,
  "nbformat_minor": 0,
  "metadata": {
    "colab": {
      "provenance": [],
      "authorship_tag": "ABX9TyMrnsXllA+PC2Ed2bfilvNU",
      "include_colab_link": true
    },
    "kernelspec": {
      "name": "python3",
      "display_name": "Python 3"
    },
    "language_info": {
      "name": "python"
    }
  },
  "cells": [
    {
      "cell_type": "markdown",
      "metadata": {
        "id": "view-in-github",
        "colab_type": "text"
      },
      "source": [
        "<a href=\"https://colab.research.google.com/github/MocktaiLEngineer/PyNN-Less/blob/main/micrograd.ipynb\" target=\"_parent\"><img src=\"https://colab.research.google.com/assets/colab-badge.svg\" alt=\"Open In Colab\"/></a>"
      ]
    },
    {
      "cell_type": "code",
      "source": [
        "from graphviz import Digraph\n",
        "\n",
        "def trace(root):\n",
        "  # builds a set of all nodes and edges in a graph\n",
        "  nodes, edges = set(), set()\n",
        "  def build(v):\n",
        "    if v not in nodes:\n",
        "      nodes.add(v)\n",
        "      for child in v._prev:\n",
        "        edges.add((child, v))\n",
        "        build(child)\n",
        "  build(root)\n",
        "  return nodes, edges\n",
        "\n",
        "def draw_dot(root):\n",
        "  dot = Digraph(format='svg', graph_attr={'rankdir': 'LR'}) # LR = left to right\n",
        "  \n",
        "  nodes, edges = trace(root)\n",
        "  for n in nodes:\n",
        "    uid = str(id(n))\n",
        "    # for any value in the graph, create a rectangular ('record') node for it\n",
        "    dot.node(name = uid, label = \"{ %s | data %.4f | grad %.4f }\" % (n.label, n.data, n.grad), shape='record')\n",
        "    if n._op:\n",
        "      # if this value is a result of some operation, create an op node for it\n",
        "      dot.node(name = uid + n._op, label = n._op)\n",
        "      # and connect this node to it\n",
        "      dot.edge(uid + n._op, uid)\n",
        "\n",
        "  for n1, n2 in edges:\n",
        "    # connect n1 to the op node of n2\n",
        "    dot.edge(str(id(n1)), str(id(n2)) + n2._op)\n",
        "\n",
        "  return dot"
      ],
      "metadata": {
        "id": "4IWCnCOOnsm9"
      },
      "execution_count": 114,
      "outputs": []
    },
    {
      "cell_type": "code",
      "execution_count": 115,
      "metadata": {
        "id": "l_EgXoEBk81P"
      },
      "outputs": [],
      "source": [
        "import math\n",
        "\n",
        "class Value():\n",
        "    def __init__(self, data, _prev = (), _op = '', label = ''):\n",
        "        self.data = data\n",
        "        self._prev = set(_prev)\n",
        "        self._op = _op\n",
        "        self.label = label\n",
        "        self.grad = 0.0\n",
        "        self._backward = lambda : None\n",
        "\n",
        "    def __repr__(self):\n",
        "        return f'Value({self.data})'\n",
        "\n",
        "    def __add__(self, other):\n",
        "        other = other if isinstance(other,Value) else Value(other)\n",
        "        out = Value(self.data + other.data, _prev = (self, other), _op = '+')\n",
        "\n",
        "        def _backward():\n",
        "            self.grad += 1.0 * out.grad\n",
        "            other.grad += 1.0 * out.grad\n",
        "        out._backward = _backward\n",
        "        \n",
        "        return out\n",
        "\n",
        "    def __neg__(self):\n",
        "        return self * -1\n",
        "\n",
        "    def __sub__(self, other):\n",
        "        return self + (-other)\n",
        "\n",
        "    def __radd__(self, other):\n",
        "        return self + other\n",
        "\n",
        "    def __mul__(self,other):\n",
        "        other = other if isinstance(other,Value) else Value(other)\n",
        "        out = Value(self.data * other.data, _prev = (self, other), _op = '*')\n",
        "\n",
        "        def _backward():\n",
        "            self.grad += other.data * out.grad\n",
        "            other.grad += self.data * out.grad\n",
        "        out._backward = _backward\n",
        "\n",
        "        return out\n",
        "\n",
        "    def __rmul__(self, other):\n",
        "        return self * other\n",
        "\n",
        "    def __truediv__(self, other):\n",
        "        return self * (other**-1)\n",
        "\n",
        "    def __pow__(self, other):\n",
        "        assert isinstance(other, (int,float))\n",
        "        out = Value(self.data ** other, (self,), f'**{other}')\n",
        "\n",
        "        def _backward():\n",
        "            self.grad += (other * (self.data ** (other - 1))) * out.grad\n",
        "        out._backward = _backward\n",
        "\n",
        "        return out \n",
        "\n",
        "    def tanh(self):\n",
        "        x = self.data\n",
        "        t = (math.exp(2*x) - 1)/(math.exp(2*x) + 1)\n",
        "        out = Value(t, (self,), 'tanh')\n",
        "\n",
        "        def _backward():\n",
        "            self.grad += (1 - t**2) * out.grad\n",
        "        out._backward = _backward\n",
        "\n",
        "        return out\n",
        "\n",
        "    def exp(self):\n",
        "        x = self.data\n",
        "        out = Value(math.exp(x), (self,), 'exp')\n",
        "\n",
        "        def _backward():\n",
        "            self.grad += out.data * out.grad\n",
        "        out._backward = _backward\n",
        "\n",
        "    def backward(self):\n",
        "        topo = []\n",
        "        visited = set()\n",
        "        def build_topo(v):\n",
        "            if v not in visited:\n",
        "                visited.add(v)\n",
        "                for child in v._prev:\n",
        "                    build_topo(child)\n",
        "                topo.append(v)\n",
        "        build_topo(self)\n",
        "        \n",
        "        self.grad = 1.0\n",
        "        for node in reversed(topo):\n",
        "            node._backward()\n"
      ]
    },
    {
      "cell_type": "code",
      "source": [
        "a = Value(2.0); a.label = 'a'\n",
        "b = Value(3.0); b.label = 'b'\n",
        "c = Value(4.0); c.label = 'c'\n",
        "d = a * b; d.label = 'd'\n",
        "e = d + c; e.label = 'e'\n",
        "f = e.tanh(); f.label = 'f'\n",
        "g = f ** 2; g.label = 'g'"
      ],
      "metadata": {
        "id": "m1FOpH9Vyz3U"
      },
      "execution_count": 116,
      "outputs": []
    },
    {
      "cell_type": "code",
      "source": [
        "draw_dot(g)"
      ],
      "metadata": {
        "colab": {
          "base_uri": "https://localhost:8080/",
          "height": 210
        },
        "id": "fvhMbIx3_086",
        "outputId": "f97d00c0-d6bb-44ef-cd11-a173ff1ab835"
      },
      "execution_count": 117,
      "outputs": [
        {
          "output_type": "execute_result",
          "data": {
            "text/plain": [
              "<graphviz.dot.Digraph at 0x7ff02ab966a0>"
            ],
            "image/svg+xml": "<?xml version=\"1.0\" encoding=\"UTF-8\" standalone=\"no\"?>\n<!DOCTYPE svg PUBLIC \"-//W3C//DTD SVG 1.1//EN\"\n \"http://www.w3.org/Graphics/SVG/1.1/DTD/svg11.dtd\">\n<!-- Generated by graphviz version 2.43.0 (0)\n -->\n<!-- Title: %3 Pages: 1 -->\n<svg width=\"1442pt\" height=\"127pt\"\n viewBox=\"0.00 0.00 1442.00 127.00\" xmlns=\"http://www.w3.org/2000/svg\" xmlns:xlink=\"http://www.w3.org/1999/xlink\">\n<g id=\"graph0\" class=\"graph\" transform=\"scale(1 1) rotate(0) translate(4 123)\">\n<title>%3</title>\n<polygon fill=\"white\" stroke=\"transparent\" points=\"-4,4 -4,-123 1438,-123 1438,4 -4,4\"/>\n<!-- 140669487737920 -->\n<g id=\"node1\" class=\"node\">\n<title>140669487737920</title>\n<polygon fill=\"none\" stroke=\"black\" points=\"622,-54.5 622,-90.5 814,-90.5 814,-54.5 622,-54.5\"/>\n<text text-anchor=\"middle\" x=\"633.5\" y=\"-68.8\" font-family=\"Times,serif\" font-size=\"14.00\">e</text>\n<polyline fill=\"none\" stroke=\"black\" points=\"645,-54.5 645,-90.5 \"/>\n<text text-anchor=\"middle\" x=\"688.5\" y=\"-68.8\" font-family=\"Times,serif\" font-size=\"14.00\">data 10.0000</text>\n<polyline fill=\"none\" stroke=\"black\" points=\"732,-54.5 732,-90.5 \"/>\n<text text-anchor=\"middle\" x=\"773\" y=\"-68.8\" font-family=\"Times,serif\" font-size=\"14.00\">grad 0.0000</text>\n</g>\n<!-- 140669487738832tanh -->\n<g id=\"node10\" class=\"node\">\n<title>140669487738832tanh</title>\n<ellipse fill=\"none\" stroke=\"black\" cx=\"877\" cy=\"-72.5\" rx=\"27\" ry=\"18\"/>\n<text text-anchor=\"middle\" x=\"877\" y=\"-68.8\" font-family=\"Times,serif\" font-size=\"14.00\">tanh</text>\n</g>\n<!-- 140669487737920&#45;&gt;140669487738832tanh -->\n<g id=\"edge8\" class=\"edge\">\n<title>140669487737920&#45;&gt;140669487738832tanh</title>\n<path fill=\"none\" stroke=\"black\" d=\"M814.4,-72.5C823.32,-72.5 831.93,-72.5 839.75,-72.5\"/>\n<polygon fill=\"black\" stroke=\"black\" points=\"839.86,-76 849.86,-72.5 839.86,-69 839.86,-76\"/>\n</g>\n<!-- 140669487737920+ -->\n<g id=\"node2\" class=\"node\">\n<title>140669487737920+</title>\n<ellipse fill=\"none\" stroke=\"black\" cx=\"559\" cy=\"-72.5\" rx=\"27\" ry=\"18\"/>\n<text text-anchor=\"middle\" x=\"559\" y=\"-68.8\" font-family=\"Times,serif\" font-size=\"14.00\">+</text>\n</g>\n<!-- 140669487737920+&#45;&gt;140669487737920 -->\n<g id=\"edge1\" class=\"edge\">\n<title>140669487737920+&#45;&gt;140669487737920</title>\n<path fill=\"none\" stroke=\"black\" d=\"M586.28,-72.5C593.78,-72.5 602.44,-72.5 611.67,-72.5\"/>\n<polygon fill=\"black\" stroke=\"black\" points=\"611.87,-76 621.87,-72.5 611.87,-69 611.87,-76\"/>\n</g>\n<!-- 140669485672528 -->\n<g id=\"node3\" class=\"node\">\n<title>140669485672528</title>\n<polygon fill=\"none\" stroke=\"black\" points=\"311,-82.5 311,-118.5 496,-118.5 496,-82.5 311,-82.5\"/>\n<text text-anchor=\"middle\" x=\"322.5\" y=\"-96.8\" font-family=\"Times,serif\" font-size=\"14.00\">c</text>\n<polyline fill=\"none\" stroke=\"black\" points=\"334,-82.5 334,-118.5 \"/>\n<text text-anchor=\"middle\" x=\"374\" y=\"-96.8\" font-family=\"Times,serif\" font-size=\"14.00\">data 4.0000</text>\n<polyline fill=\"none\" stroke=\"black\" points=\"414,-82.5 414,-118.5 \"/>\n<text text-anchor=\"middle\" x=\"455\" y=\"-96.8\" font-family=\"Times,serif\" font-size=\"14.00\">grad 0.0000</text>\n</g>\n<!-- 140669485672528&#45;&gt;140669487737920+ -->\n<g id=\"edge10\" class=\"edge\">\n<title>140669485672528&#45;&gt;140669487737920+</title>\n<path fill=\"none\" stroke=\"black\" d=\"M496.01,-83.81C505.49,-82.08 514.66,-80.41 522.9,-78.9\"/>\n<polygon fill=\"black\" stroke=\"black\" points=\"523.6,-82.33 532.81,-77.09 522.35,-75.45 523.6,-82.33\"/>\n</g>\n<!-- 140669487734944 -->\n<g id=\"node4\" class=\"node\">\n<title>140669487734944</title>\n<polygon fill=\"none\" stroke=\"black\" points=\"311,-27.5 311,-63.5 496,-63.5 496,-27.5 311,-27.5\"/>\n<text text-anchor=\"middle\" x=\"322.5\" y=\"-41.8\" font-family=\"Times,serif\" font-size=\"14.00\">d</text>\n<polyline fill=\"none\" stroke=\"black\" points=\"334,-27.5 334,-63.5 \"/>\n<text text-anchor=\"middle\" x=\"374\" y=\"-41.8\" font-family=\"Times,serif\" font-size=\"14.00\">data 6.0000</text>\n<polyline fill=\"none\" stroke=\"black\" points=\"414,-27.5 414,-63.5 \"/>\n<text text-anchor=\"middle\" x=\"455\" y=\"-41.8\" font-family=\"Times,serif\" font-size=\"14.00\">grad 0.0000</text>\n</g>\n<!-- 140669487734944&#45;&gt;140669487737920+ -->\n<g id=\"edge6\" class=\"edge\">\n<title>140669487734944&#45;&gt;140669487737920+</title>\n<path fill=\"none\" stroke=\"black\" d=\"M496.01,-61.6C505.49,-63.26 514.66,-64.88 522.9,-66.33\"/>\n<polygon fill=\"black\" stroke=\"black\" points=\"522.36,-69.78 532.81,-68.07 523.57,-62.89 522.36,-69.78\"/>\n</g>\n<!-- 140669487734944* -->\n<g id=\"node5\" class=\"node\">\n<title>140669487734944*</title>\n<ellipse fill=\"none\" stroke=\"black\" cx=\"248\" cy=\"-45.5\" rx=\"27\" ry=\"18\"/>\n<text text-anchor=\"middle\" x=\"248\" y=\"-41.8\" font-family=\"Times,serif\" font-size=\"14.00\">*</text>\n</g>\n<!-- 140669487734944*&#45;&gt;140669487734944 -->\n<g id=\"edge2\" class=\"edge\">\n<title>140669487734944*&#45;&gt;140669487734944</title>\n<path fill=\"none\" stroke=\"black\" d=\"M275.04,-45.5C282.58,-45.5 291.3,-45.5 300.57,-45.5\"/>\n<polygon fill=\"black\" stroke=\"black\" points=\"300.81,-49 310.81,-45.5 300.81,-42 300.81,-49\"/>\n</g>\n<!-- 140669487735616 -->\n<g id=\"node6\" class=\"node\">\n<title>140669487735616</title>\n<polygon fill=\"none\" stroke=\"black\" points=\"1249,-54.5 1249,-90.5 1434,-90.5 1434,-54.5 1249,-54.5\"/>\n<text text-anchor=\"middle\" x=\"1260.5\" y=\"-68.8\" font-family=\"Times,serif\" font-size=\"14.00\">g</text>\n<polyline fill=\"none\" stroke=\"black\" points=\"1272,-54.5 1272,-90.5 \"/>\n<text text-anchor=\"middle\" x=\"1312\" y=\"-68.8\" font-family=\"Times,serif\" font-size=\"14.00\">data 1.0000</text>\n<polyline fill=\"none\" stroke=\"black\" points=\"1352,-54.5 1352,-90.5 \"/>\n<text text-anchor=\"middle\" x=\"1393\" y=\"-68.8\" font-family=\"Times,serif\" font-size=\"14.00\">grad 0.0000</text>\n</g>\n<!-- 140669487735616**2 -->\n<g id=\"node7\" class=\"node\">\n<title>140669487735616**2</title>\n<ellipse fill=\"none\" stroke=\"black\" cx=\"1186\" cy=\"-72.5\" rx=\"27\" ry=\"18\"/>\n<text text-anchor=\"middle\" x=\"1186\" y=\"-68.8\" font-family=\"Times,serif\" font-size=\"14.00\">**2</text>\n</g>\n<!-- 140669487735616**2&#45;&gt;140669487735616 -->\n<g id=\"edge3\" class=\"edge\">\n<title>140669487735616**2&#45;&gt;140669487735616</title>\n<path fill=\"none\" stroke=\"black\" d=\"M1213.04,-72.5C1220.58,-72.5 1229.3,-72.5 1238.57,-72.5\"/>\n<polygon fill=\"black\" stroke=\"black\" points=\"1238.81,-76 1248.81,-72.5 1238.81,-69 1238.81,-76\"/>\n</g>\n<!-- 140669485670752 -->\n<g id=\"node8\" class=\"node\">\n<title>140669485670752</title>\n<polygon fill=\"none\" stroke=\"black\" points=\"0,-55.5 0,-91.5 185,-91.5 185,-55.5 0,-55.5\"/>\n<text text-anchor=\"middle\" x=\"11.5\" y=\"-69.8\" font-family=\"Times,serif\" font-size=\"14.00\">b</text>\n<polyline fill=\"none\" stroke=\"black\" points=\"23,-55.5 23,-91.5 \"/>\n<text text-anchor=\"middle\" x=\"63\" y=\"-69.8\" font-family=\"Times,serif\" font-size=\"14.00\">data 3.0000</text>\n<polyline fill=\"none\" stroke=\"black\" points=\"103,-55.5 103,-91.5 \"/>\n<text text-anchor=\"middle\" x=\"144\" y=\"-69.8\" font-family=\"Times,serif\" font-size=\"14.00\">grad 0.0000</text>\n</g>\n<!-- 140669485670752&#45;&gt;140669487734944* -->\n<g id=\"edge7\" class=\"edge\">\n<title>140669485670752&#45;&gt;140669487734944*</title>\n<path fill=\"none\" stroke=\"black\" d=\"M185.01,-56.81C194.49,-55.08 203.66,-53.41 211.9,-51.9\"/>\n<polygon fill=\"black\" stroke=\"black\" points=\"212.6,-55.33 221.81,-50.09 211.35,-48.45 212.6,-55.33\"/>\n</g>\n<!-- 140669487738832 -->\n<g id=\"node9\" class=\"node\">\n<title>140669487738832</title>\n<polygon fill=\"none\" stroke=\"black\" points=\"940,-54.5 940,-90.5 1123,-90.5 1123,-54.5 940,-54.5\"/>\n<text text-anchor=\"middle\" x=\"950.5\" y=\"-68.8\" font-family=\"Times,serif\" font-size=\"14.00\">f</text>\n<polyline fill=\"none\" stroke=\"black\" points=\"961,-54.5 961,-90.5 \"/>\n<text text-anchor=\"middle\" x=\"1001\" y=\"-68.8\" font-family=\"Times,serif\" font-size=\"14.00\">data 1.0000</text>\n<polyline fill=\"none\" stroke=\"black\" points=\"1041,-54.5 1041,-90.5 \"/>\n<text text-anchor=\"middle\" x=\"1082\" y=\"-68.8\" font-family=\"Times,serif\" font-size=\"14.00\">grad 0.0000</text>\n</g>\n<!-- 140669487738832&#45;&gt;140669487735616**2 -->\n<g id=\"edge5\" class=\"edge\">\n<title>140669487738832&#45;&gt;140669487735616**2</title>\n<path fill=\"none\" stroke=\"black\" d=\"M1123.41,-72.5C1132.27,-72.5 1140.85,-72.5 1148.66,-72.5\"/>\n<polygon fill=\"black\" stroke=\"black\" points=\"1148.78,-76 1158.78,-72.5 1148.78,-69 1148.78,-76\"/>\n</g>\n<!-- 140669487738832tanh&#45;&gt;140669487738832 -->\n<g id=\"edge4\" class=\"edge\">\n<title>140669487738832tanh&#45;&gt;140669487738832</title>\n<path fill=\"none\" stroke=\"black\" d=\"M904.22,-72.5C911.72,-72.5 920.38,-72.5 929.58,-72.5\"/>\n<polygon fill=\"black\" stroke=\"black\" points=\"929.75,-76 939.75,-72.5 929.75,-69 929.75,-76\"/>\n</g>\n<!-- 140669485673440 -->\n<g id=\"node11\" class=\"node\">\n<title>140669485673440</title>\n<polygon fill=\"none\" stroke=\"black\" points=\"0,-0.5 0,-36.5 185,-36.5 185,-0.5 0,-0.5\"/>\n<text text-anchor=\"middle\" x=\"11.5\" y=\"-14.8\" font-family=\"Times,serif\" font-size=\"14.00\">a</text>\n<polyline fill=\"none\" stroke=\"black\" points=\"23,-0.5 23,-36.5 \"/>\n<text text-anchor=\"middle\" x=\"63\" y=\"-14.8\" font-family=\"Times,serif\" font-size=\"14.00\">data 2.0000</text>\n<polyline fill=\"none\" stroke=\"black\" points=\"103,-0.5 103,-36.5 \"/>\n<text text-anchor=\"middle\" x=\"144\" y=\"-14.8\" font-family=\"Times,serif\" font-size=\"14.00\">grad 0.0000</text>\n</g>\n<!-- 140669485673440&#45;&gt;140669487734944* -->\n<g id=\"edge9\" class=\"edge\">\n<title>140669485673440&#45;&gt;140669487734944*</title>\n<path fill=\"none\" stroke=\"black\" d=\"M185.01,-34.6C194.49,-36.26 203.66,-37.88 211.9,-39.33\"/>\n<polygon fill=\"black\" stroke=\"black\" points=\"211.36,-42.78 221.81,-41.07 212.57,-35.89 211.36,-42.78\"/>\n</g>\n</g>\n</svg>\n"
          },
          "metadata": {},
          "execution_count": 117
        }
      ]
    },
    {
      "cell_type": "code",
      "source": [
        "g.backward()"
      ],
      "metadata": {
        "id": "8AaUUmIaAY4j"
      },
      "execution_count": 118,
      "outputs": []
    },
    {
      "cell_type": "code",
      "source": [
        "import random\n",
        "\n",
        "class Neuron():\n",
        "    def __init__(self,num_of_inputs):\n",
        "        self.w = [Value(random.uniform(-1,1)) for _ in range(num_of_inputs)]\n",
        "        self.b = Value(random.uniform(-1,1))\n",
        "    \n",
        "    def __call__(self,x):\n",
        "        activation = sum((wi*xi for wi,xi in zip(self.w,x)), self.b)\n",
        "        out = activation.tanh()\n",
        "        return out\n",
        "\n",
        "    def parameters(self):\n",
        "        return self.w + [self.b]\n",
        "\n",
        "class Layer:\n",
        "    def __init__(self,num_of_inputs,num_of_neurons):\n",
        "        self.neurons = [Neuron(num_of_inputs) for _ in range(num_of_neurons)]\n",
        "\n",
        "    def __call__(self, x):\n",
        "        outs = [n(x) for n in self.neurons]\n",
        "        return outs[0] if len(outs) == 1 else outs\n",
        "\n",
        "    def parameters(self):\n",
        "        return [p for neuron in self.neurons for p in neuron.parameters()]\n",
        "\n",
        "class MLP:\n",
        "  \n",
        "    def __init__(self, nin, nouts):\n",
        "        sz = [nin] + nouts\n",
        "        self.layers = [Layer(sz[i], sz[i+1]) for i in range(len(nouts))]\n",
        "    \n",
        "    def __call__(self, x):\n",
        "        for layer in self.layers:\n",
        "            x = layer(x)\n",
        "        return x\n",
        "\n",
        "    def parameters(self):\n",
        "        return [p for layer in self.layers for p in layer.parameters()]\n",
        "\n"
      ],
      "metadata": {
        "id": "gwOXrK8siUuG"
      },
      "execution_count": 119,
      "outputs": []
    },
    {
      "cell_type": "code",
      "source": [
        "x = [2.0,3.0,-1.0]\n",
        "n = MLP(3,[4,4,1])\n",
        "n(x)"
      ],
      "metadata": {
        "colab": {
          "base_uri": "https://localhost:8080/"
        },
        "id": "hn1TNyRVAO6n",
        "outputId": "f43fbd70-aed2-417d-c8a2-3c58ff364669"
      },
      "execution_count": 120,
      "outputs": [
        {
          "output_type": "execute_result",
          "data": {
            "text/plain": [
              "Value(-0.7587673200963323)"
            ]
          },
          "metadata": {},
          "execution_count": 120
        }
      ]
    },
    {
      "cell_type": "code",
      "source": [
        "xs = [\n",
        "  [2.0, 3.0, -1.0],\n",
        "  [3.0, -1.0, 0.5],\n",
        "  [0.5, 1.0, 1.0],\n",
        "  [1.0, 1.0, -1.0],\n",
        "]\n",
        "ys = [1.0, -1.0, -1.0, 1.0] # desired targets"
      ],
      "metadata": {
        "id": "DTgBVyRlAPuQ"
      },
      "execution_count": 121,
      "outputs": []
    },
    {
      "cell_type": "code",
      "source": [
        "for i in range(20):\n",
        "\n",
        "    # forward pass\n",
        "    ypred = [n(x) for x in xs]\n",
        "    loss = sum((ypred - ys)**2 for ys,ypred in zip(ys,ypred))\n",
        "\n",
        "    # backward pass\n",
        "    for p in n.parameters():\n",
        "        p.grad = 0.0\n",
        "    loss.backward()\n",
        "\n",
        "    # update\n",
        "    for p in n.parameters():\n",
        "        p.data += -0.05 * p.grad\n",
        "\n",
        "    print(i,loss.data)"
      ],
      "metadata": {
        "colab": {
          "base_uri": "https://localhost:8080/"
        },
        "id": "552-3Wy47m-m",
        "outputId": "652cda19-0832-41ab-a241-3bd6443bc7e6"
      },
      "execution_count": 122,
      "outputs": [
        {
          "output_type": "stream",
          "name": "stdout",
          "text": [
            "0 6.323624723207759\n",
            "1 2.74775036100073\n",
            "2 0.42558487802106504\n",
            "3 0.28042017494672145\n",
            "4 0.21144427773498548\n",
            "5 0.1685280913116262\n",
            "6 0.1391644620681277\n",
            "7 0.11791475756049452\n",
            "8 0.10190489295319285\n",
            "9 0.08946016533288832\n",
            "10 0.07954056792023584\n",
            "11 0.07146854151733287\n",
            "12 0.06478529161314353\n",
            "13 0.059170006478423326\n",
            "14 0.05439214795114711\n",
            "15 0.05028210738229982\n",
            "16 0.04671252309026623\n",
            "17 0.04358602441914382\n",
            "18 0.04082697795736103\n",
            "19 0.038375798456423915\n"
          ]
        }
      ]
    }
  ]
}